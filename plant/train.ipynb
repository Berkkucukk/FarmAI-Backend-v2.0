{
 "cells": [
  {
   "cell_type": "code",
   "execution_count": 1,
   "metadata": {},
   "outputs": [
    {
     "name": "stdout",
     "output_type": "stream",
     "text": [
      "Using device: cuda:0\n"
     ]
    }
   ],
   "source": [
    "import torch\n",
    "import torch.nn as nn\n",
    "import torchvision\n",
    "from torchvision import datasets, transforms\n",
    "import torch.cuda\n",
    "\n",
    "device = torch.device(\"cuda:0\" if torch.cuda.is_available() else \"cpu\")\n",
    "print(f\"Using device: {device}\")\n",
    "\n",
    "# Veri yolu - Klasördeki verilerin kategori alt klasörlerde bulunduğunu varsayalım.\n",
    "data_dir = 'data/'\n",
    "\n",
    "# Veri dönüşümleri (örnek olarak)\n",
    "transform = transforms.Compose([\n",
    "    transforms.Resize((224, 224)),  # Görselleri istediğiniz boyuta dönüştürebilirsiniz\n",
    "    transforms.ToTensor(),          # Görselleri tensöre dönüştür\n",
    "    transforms.Normalize(mean=[0.485, 0.456, 0.406], std=[0.229, 0.224, 0.225]),  # Normalizasyon (örnek)\n",
    "])\n",
    "\n",
    "# Veri yükleyici parametreleri\n",
    "batch_size = 32\n",
    "num_workers = 4\n",
    "\n",
    "# Veriyi yükleyin\n",
    "dataset = datasets.ImageFolder(data_dir, transform=transform)\n",
    "dataloader = torch.utils.data.DataLoader(dataset, batch_size=batch_size, shuffle=True, num_workers=num_workers)\n"
   ]
  },
  {
   "cell_type": "code",
   "execution_count": 2,
   "metadata": {},
   "outputs": [
    {
     "data": {
      "text/plain": [
       "39"
      ]
     },
     "execution_count": 2,
     "metadata": {},
     "output_type": "execute_result"
    }
   ],
   "source": [
    "num_classes = len(dataset.classes)\n",
    "num_classes"
   ]
  },
  {
   "cell_type": "code",
   "execution_count": 9,
   "metadata": {},
   "outputs": [],
   "source": [
    "class CNNModel(nn.Module):\n",
    "    def __init__(self, num_classes):\n",
    "        super(CNNModel, self).__init__()\n",
    "        self.conv1 = nn.Conv2d(3, 32, kernel_size=3, stride=1, padding=1)\n",
    "        self.conv2 = nn.Conv2d(32, 64, kernel_size=3, stride=1, padding=1)\n",
    "        self.fc1 = nn.Linear(64 * 56 * 56, 128)  # Giriş boyutunu uygun şekilde ayarlayın\n",
    "        self.fc2 = nn.Linear(128, num_classes)\n",
    "\n",
    "    def forward(self, x):\n",
    "        x = nn.functional.relu(self.conv1(x))\n",
    "        x = nn.functional.max_pool2d(x, 2)\n",
    "        x = nn.functional.relu(self.conv2(x))\n",
    "        x = nn.functional.max_pool2d(x, 2)\n",
    "        x = x.view(x.size(0), -1)\n",
    "        x = nn.functional.relu(self.fc1(x))\n",
    "        x = self.fc2(x)\n",
    "        return x\n",
    "\n",
    "# Modeli oluştur\n",
    "num_classes = len(dataset.classes)  # Sınıf sayısı otomatik olarak belirlenir\n",
    "model = CNNModel(num_classes).to(device)\n"
   ]
  },
  {
   "cell_type": "code",
   "execution_count": 10,
   "metadata": {},
   "outputs": [
    {
     "name": "stdout",
     "output_type": "stream",
     "text": [
      "Epoch [1/10] Loss: 0.4729686677455902 Accuracy: 72.86105901024384\n",
      "Epoch [2/10] Loss: 0.34890151023864746 Accuracy: 80.5132736978791\n",
      "Epoch [3/10] Loss: 0.15320201218128204 Accuracy: 84.88133025537441\n",
      "Epoch [4/10] Loss: 0.3196655809879303 Accuracy: 87.78314817486654\n",
      "Epoch [5/10] Loss: 0.06553100794553757 Accuracy: 89.73416534410619\n",
      "Epoch [6/10] Loss: 0.21722841262817383 Accuracy: 91.07301736161209\n",
      "Epoch [7/10] Loss: 0.02120833285152912 Accuracy: 92.11281612630624\n",
      "Epoch [8/10] Loss: 0.2340955138206482 Accuracy: 92.92309911989612\n",
      "Epoch [9/10] Loss: 0.00041523922118358314 Accuracy: 93.57255646932461\n",
      "Epoch [10/10] Loss: 0.0008148965425789356 Accuracy: 94.08021930457366\n"
     ]
    }
   ],
   "source": [
    "# Eğitim parametreleri\n",
    "learning_rate = 0.001\n",
    "num_epochs = 10\n",
    "\n",
    "# Kayıp fonksiyonu ve optimizasyon fonksiyonu\n",
    "criterion = nn.CrossEntropyLoss()\n",
    "optimizer = torch.optim.Adam(model.parameters(), lr=learning_rate)\n",
    "correct = 0\n",
    "total = 0\n",
    "\n",
    "for epoch in range(num_epochs):\n",
    "    for images, labels in dataloader:\n",
    "        # Veriyi GPU üzerine taşı\n",
    "        images, labels = images.to(device), labels.to(device)\n",
    "\n",
    "        # İleri geçiş\n",
    "        outputs = model(images)\n",
    "        loss = criterion(outputs, labels)\n",
    "\n",
    "        # Geriye doğru yayılım ve parametre güncelleme\n",
    "        optimizer.zero_grad()\n",
    "        loss.backward()\n",
    "        optimizer.step()\n",
    "\n",
    "        _, predicted = torch.max(outputs.data, 1)\n",
    "        total += labels.size(0)\n",
    "        correct += (predicted == labels).sum().item()\n",
    "\n",
    "    accuracy = 100 * correct / total\n",
    "\n",
    "    print(f'Epoch [{epoch+1}/{num_epochs}] Loss: {loss.item()} Accuracy: {accuracy}')\n"
   ]
  },
  {
   "cell_type": "code",
   "execution_count": 11,
   "metadata": {},
   "outputs": [],
   "source": [
    "# Modeli kaydet\n",
    "torch.save(model.state_dict(), 'plant.pth')"
   ]
  },
  {
   "cell_type": "code",
   "execution_count": 12,
   "metadata": {},
   "outputs": [
    {
     "data": {
      "text/plain": [
       "CNNModel(\n",
       "  (conv1): Conv2d(3, 32, kernel_size=(3, 3), stride=(1, 1), padding=(1, 1))\n",
       "  (conv2): Conv2d(32, 64, kernel_size=(3, 3), stride=(1, 1), padding=(1, 1))\n",
       "  (fc1): Linear(in_features=200704, out_features=128, bias=True)\n",
       "  (fc2): Linear(in_features=128, out_features=39, bias=True)\n",
       ")"
      ]
     },
     "execution_count": 12,
     "metadata": {},
     "output_type": "execute_result"
    }
   ],
   "source": [
    "# Model yapısını oluştur\n",
    "model = CNNModel(num_classes)  # Model yapısını aynı şekilde oluşturmalısınız\n",
    "\n",
    "# Kaydedilmiş parametreleri yükle\n",
    "model.load_state_dict(torch.load('plant.pth'))\n",
    "\n",
    "# Modeli tahminlerde kullanabilirsiniz\n",
    "model.eval()  # Modeli tahmin modunda etkinleştirin\n",
    "# Burada tahminlerinizi yapabilirsiniz\n"
   ]
  },
  {
   "cell_type": "code",
   "execution_count": 13,
   "metadata": {},
   "outputs": [],
   "source": [
    "import cv2\n",
    "from PIL import Image"
   ]
  },
  {
   "cell_type": "code",
   "execution_count": 14,
   "metadata": {},
   "outputs": [],
   "source": [
    "image_path = '/home/berkkucukk/PythonProjects/Plant/data/Apple___Apple_scab/image (1).JPG'  # Test görüntüsünün dosya yolu\n",
    "image = cv2.imread(image_path)\n",
    "image = cv2.cvtColor(image, cv2.COLOR_BGR2RGB)  # Görüntüyü BGR'den RGB'ye dönüştür\n",
    "image_pil = Image.fromarray(image)"
   ]
  },
  {
   "cell_type": "code",
   "execution_count": 15,
   "metadata": {},
   "outputs": [],
   "source": [
    "# Giriş görüntüsünü modele uygun hale getir\n",
    "transform = transforms.Compose([\n",
    "    transforms.Resize((224, 224)),\n",
    "    transforms.ToTensor(),\n",
    "    transforms.Normalize(mean=[0.485, 0.456, 0.406], std=[0.229, 0.224, 0.225])\n",
    "])\n",
    "input_image = transform(image_pil)\n",
    "input_image = input_image.unsqueeze(0)  # Batch boyutunu ekleyin (1 görüntü için)"
   ]
  },
  {
   "cell_type": "code",
   "execution_count": 16,
   "metadata": {},
   "outputs": [
    {
     "name": "stdout",
     "output_type": "stream",
     "text": [
      "Tahmin edilen sınıf: Apple___Apple_scab\n"
     ]
    }
   ],
   "source": [
    "with torch.no_grad():\n",
    "    output = model(input_image)\n",
    "\n",
    "# Sınıflandırma sonuçlarını al\n",
    "_, predicted = torch.max(output, 1)\n",
    "\n",
    "# Sınıf tahminini bul\n",
    "class_index = predicted.item()\n",
    "class_label = dataset.classes[class_index]  # 'dataset' veri kümesinin sınıflarını içerdiğini varsayalım\n",
    "\n",
    "print(f'Tahmin edilen sınıf: {class_label}')"
   ]
  },
  {
   "cell_type": "code",
   "execution_count": null,
   "metadata": {},
   "outputs": [],
   "source": []
  }
 ],
 "metadata": {
  "kernelspec": {
   "display_name": "base",
   "language": "python",
   "name": "python3"
  },
  "language_info": {
   "codemirror_mode": {
    "name": "ipython",
    "version": 3
   },
   "file_extension": ".py",
   "mimetype": "text/x-python",
   "name": "python",
   "nbconvert_exporter": "python",
   "pygments_lexer": "ipython3",
   "version": "3.11.5"
  }
 },
 "nbformat": 4,
 "nbformat_minor": 2
}
