{
 "cells": [
  {
   "cell_type": "code",
   "execution_count": 4,
   "metadata": {},
   "outputs": [],
   "source": [
    "import torch\n",
    "import torch.nn as nn\n",
    "import torchvision\n",
    "from torchvision import datasets, transforms\n",
    "\n",
    "# Veri yolu - Klasördeki verilerin kategori alt klasörlerde bulunduğunu varsayalım.\n",
    "data_dir = 'Soil types/'\n",
    "\n",
    "# Veri dönüşümleri (örnek olarak)\n",
    "transform = transforms.Compose([\n",
    "    transforms.Resize((224, 224)),  # Görselleri istediğiniz boyuta dönüştürebilirsiniz\n",
    "    transforms.ToTensor(),          # Görselleri tensöre dönüştür\n",
    "    transforms.Normalize(mean=[0.485, 0.456, 0.406], std=[0.229, 0.224, 0.225]),  # Normalizasyon (örnek)\n",
    "])\n",
    "\n",
    "# Veri yükleyici parametreleri\n",
    "batch_size = 32\n",
    "num_workers = 4\n",
    "\n",
    "# Veriyi yükleyin\n",
    "dataset = datasets.ImageFolder(data_dir, transform=transform)\n",
    "dataloader = torch.utils.data.DataLoader(dataset, batch_size=batch_size, shuffle=True, num_workers=num_workers)\n"
   ]
  },
  {
   "cell_type": "code",
   "execution_count": 5,
   "metadata": {},
   "outputs": [],
   "source": [
    "class CNNModel(nn.Module):\n",
    "    def __init__(self, num_classes):\n",
    "        super(CNNModel, self).__init__()\n",
    "        self.conv1 = nn.Conv2d(3, 32, kernel_size=3, stride=1, padding=1)\n",
    "        self.conv2 = nn.Conv2d(32, 64, kernel_size=3, stride=1, padding=1)\n",
    "        self.fc1 = nn.Linear(64 * 56 * 56, 128)  # Giriş boyutunu uygun şekilde ayarlayın\n",
    "        self.fc2 = nn.Linear(128, num_classes)\n",
    "\n",
    "    def forward(self, x):\n",
    "        x = nn.functional.relu(self.conv1(x))\n",
    "        x = nn.functional.max_pool2d(x, 2)\n",
    "        x = nn.functional.relu(self.conv2(x))\n",
    "        x = nn.functional.max_pool2d(x, 2)\n",
    "        x = x.view(x.size(0), -1)\n",
    "        x = nn.functional.relu(self.fc1(x))\n",
    "        x = self.fc2(x)\n",
    "        return x\n",
    "\n",
    "# Modeli oluştur\n",
    "num_classes = len(dataset.classes)  # Sınıf sayısı otomatik olarak belirlenir\n",
    "model = CNNModel(num_classes)\n"
   ]
  },
  {
   "cell_type": "code",
   "execution_count": 8,
   "metadata": {},
   "outputs": [
    {
     "name": "stdout",
     "output_type": "stream",
     "text": [
      "Epoch [1/10] Loss: 0.3367578983306885 Accuracy: 84.66453674121406\n",
      "Epoch [2/10] Loss: 0.1407817304134369 Accuracy: 90.57507987220447\n",
      "Epoch [3/10] Loss: 0.04745684936642647 Accuracy: 93.07774227902023\n",
      "Epoch [4/10] Loss: 0.00037880995660088956 Accuracy: 94.72843450479233\n",
      "Epoch [5/10] Loss: 0.022711701691150665 Accuracy: 95.71884984025559\n",
      "Epoch [6/10] Loss: 0.0037627951242029667 Accuracy: 96.3258785942492\n",
      "Epoch [7/10] Loss: 0.0026297406293451786 Accuracy: 96.85075308078503\n",
      "Epoch [8/10] Loss: 0.0002065466542262584 Accuracy: 97.2444089456869\n",
      "Epoch [9/10] Loss: 0.00020160162239335477 Accuracy: 97.55058572949947\n",
      "Epoch [10/10] Loss: 0.00013027996465098113 Accuracy: 97.79552715654953\n"
     ]
    }
   ],
   "source": [
    "# Eğitim parametreleri\n",
    "learning_rate = 0.001\n",
    "num_epochs = 10\n",
    "\n",
    "# Kayıp fonksiyonu ve optimizasyon fonksiyonu\n",
    "criterion = nn.CrossEntropyLoss()\n",
    "optimizer = torch.optim.Adam(model.parameters(), lr=learning_rate)\n",
    "correct = 0\n",
    "total = 0\n",
    "\n",
    "# Eğitim döngüsü\n",
    "for epoch in range(num_epochs):\n",
    "    for images, labels in dataloader:\n",
    "        # İleri geçiş\n",
    "        outputs = model(images)\n",
    "        loss = criterion(outputs, labels)\n",
    "\n",
    "        # Geriye doğru yayılım ve parametre güncelleme\n",
    "        optimizer.zero_grad()\n",
    "        loss.backward()\n",
    "        optimizer.step()\n",
    "\n",
    "        _, predicted = torch.max(outputs.data, 1)\n",
    "        total += labels.size(0)\n",
    "        correct += (predicted == labels).sum().item()\n",
    "\n",
    "    accuracy = 100 * correct / total\n",
    "\n",
    "    print(f'Epoch [{epoch+1}/{num_epochs}] Loss: {loss.item()} Accuracy: {accuracy}')\n"
   ]
  },
  {
   "cell_type": "code",
   "execution_count": 9,
   "metadata": {},
   "outputs": [],
   "source": [
    "# Modeli kaydet\n",
    "torch.save(model.state_dict(), 'soil.pth')"
   ]
  },
  {
   "cell_type": "code",
   "execution_count": 10,
   "metadata": {},
   "outputs": [
    {
     "data": {
      "text/plain": [
       "CNNModel(\n",
       "  (conv1): Conv2d(3, 32, kernel_size=(3, 3), stride=(1, 1), padding=(1, 1))\n",
       "  (conv2): Conv2d(32, 64, kernel_size=(3, 3), stride=(1, 1), padding=(1, 1))\n",
       "  (fc1): Linear(in_features=200704, out_features=128, bias=True)\n",
       "  (fc2): Linear(in_features=128, out_features=5, bias=True)\n",
       ")"
      ]
     },
     "execution_count": 10,
     "metadata": {},
     "output_type": "execute_result"
    }
   ],
   "source": [
    "# Model yapısını oluştur\n",
    "model = CNNModel(num_classes)  # Model yapısını aynı şekilde oluşturmalısınız\n",
    "\n",
    "# Kaydedilmiş parametreleri yükle\n",
    "model.load_state_dict(torch.load('soil.pth'))\n",
    "\n",
    "# Modeli tahminlerde kullanabilirsiniz\n",
    "model.eval()  # Modeli tahmin modunda etkinleştirin\n",
    "# Burada tahminlerinizi yapabilirsiniz\n"
   ]
  },
  {
   "cell_type": "code",
   "execution_count": 16,
   "metadata": {},
   "outputs": [],
   "source": [
    "import cv2\n",
    "from PIL import Image"
   ]
  },
  {
   "cell_type": "code",
   "execution_count": 17,
   "metadata": {},
   "outputs": [],
   "source": [
    "image_path = 'blacksoil.jpg'  # Test görüntüsünün dosya yolu\n",
    "image = cv2.imread(image_path)\n",
    "image = cv2.cvtColor(image, cv2.COLOR_BGR2RGB)  # Görüntüyü BGR'den RGB'ye dönüştür\n",
    "image_pil = Image.fromarray(image)"
   ]
  },
  {
   "cell_type": "code",
   "execution_count": 18,
   "metadata": {},
   "outputs": [],
   "source": [
    "# Giriş görüntüsünü modele uygun hale getir\n",
    "transform = transforms.Compose([\n",
    "    transforms.Resize((224, 224)),\n",
    "    transforms.ToTensor(),\n",
    "    transforms.Normalize(mean=[0.485, 0.456, 0.406], std=[0.229, 0.224, 0.225])\n",
    "])\n",
    "input_image = transform(image_pil)\n",
    "input_image = input_image.unsqueeze(0)  # Batch boyutunu ekleyin (1 görüntü için)"
   ]
  },
  {
   "cell_type": "code",
   "execution_count": 19,
   "metadata": {},
   "outputs": [
    {
     "name": "stdout",
     "output_type": "stream",
     "text": [
      "Tahmin edilen sınıf: Black Soil\n"
     ]
    }
   ],
   "source": [
    "with torch.no_grad():\n",
    "    output = model(input_image)\n",
    "\n",
    "# Sınıflandırma sonuçlarını al\n",
    "_, predicted = torch.max(output, 1)\n",
    "\n",
    "# Sınıf tahminini bul\n",
    "class_index = predicted.item()\n",
    "class_label = dataset.classes[class_index]  # 'dataset' veri kümesinin sınıflarını içerdiğini varsayalım\n",
    "\n",
    "print(f'Tahmin edilen sınıf: {class_label}')"
   ]
  },
  {
   "cell_type": "code",
   "execution_count": null,
   "metadata": {},
   "outputs": [],
   "source": []
  }
 ],
 "metadata": {
  "kernelspec": {
   "display_name": "base",
   "language": "python",
   "name": "python3"
  },
  "language_info": {
   "codemirror_mode": {
    "name": "ipython",
    "version": 3
   },
   "file_extension": ".py",
   "mimetype": "text/x-python",
   "name": "python",
   "nbconvert_exporter": "python",
   "pygments_lexer": "ipython3",
   "version": "3.11.5"
  }
 },
 "nbformat": 4,
 "nbformat_minor": 2
}
